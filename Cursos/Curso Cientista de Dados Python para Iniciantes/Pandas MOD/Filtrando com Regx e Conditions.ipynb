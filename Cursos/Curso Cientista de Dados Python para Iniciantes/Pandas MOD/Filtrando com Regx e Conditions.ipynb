{
 "cells": [
  {
   "cell_type": "code",
   "execution_count": null,
   "id": "b1d355af-84ed-45ba-ba4c-45e9b439328a",
   "metadata": {},
   "outputs": [],
   "source": [
    "import pandas as pd\n",
    "import re "
   ]
  },
  {
   "cell_type": "code",
   "execution_count": null,
   "id": "75adae13-8dd8-4eaa-867a-33f87f83c759",
   "metadata": {},
   "outputs": [],
   "source": [
    "df = pd.read_csv('Tabelas/house.csv')"
   ]
  },
  {
   "cell_type": "code",
   "execution_count": null,
   "id": "80a3872f-0975-48f0-9203-6fa2373795fe",
   "metadata": {},
   "outputs": [],
   "source": [
    "filter1 = df.loc[(df['Rooms'] == 3) & (df['Type'] == 'h') & (df['Price'] >= 500000)] #Filtrando tres colunas\n",
    "filter1"
   ]
  },
  {
   "cell_type": "code",
   "execution_count": null,
   "id": "28996308-bfac-4f50-8809-b137e6677b98",
   "metadata": {},
   "outputs": [],
   "source": [
    "filter2 = df.loc[df['Address'].str.contains ('Turner st | Turner Rd' , flags=re.I)] #Filtrando com Endereços\n",
    "filter2"
   ]
  },
  {
   "cell_type": "code",
   "execution_count": null,
   "id": "92fff385-4c36-46fd-b865-f6ef9edb9d02",
   "metadata": {},
   "outputs": [],
   "source": [
    "filter3 = df.loc[df['Addresdf.loc[df['Address'].str.contains ('Turner st | Turner Rd' , flags=re.I)] #Filtrando com Endereçoss'].str.contains ('^59' , flags=re.I) | (df['Price'] <=500000)] #Filtrando por numeração da casa 59 ou menor que 50k\n",
    "filter3 "
   ]
  }
 ],
 "metadata": {
  "kernelspec": {
   "display_name": "Python 3 (ipykernel)",
   "language": "python",
   "name": "python3"
  },
  "language_info": {
   "codemirror_mode": {
    "name": "ipython",
    "version": 3
   },
   "file_extension": ".py",
   "mimetype": "text/x-python",
   "name": "python",
   "nbconvert_exporter": "python",
   "pygments_lexer": "ipython3",
   "version": "3.9.7"
  }
 },
 "nbformat": 4,
 "nbformat_minor": 5
}
