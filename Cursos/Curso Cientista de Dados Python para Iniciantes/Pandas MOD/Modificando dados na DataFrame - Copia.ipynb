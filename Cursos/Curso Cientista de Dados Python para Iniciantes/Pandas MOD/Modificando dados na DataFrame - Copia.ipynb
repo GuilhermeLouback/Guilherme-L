{
 "cells": [
  {
   "cell_type": "code",
   "execution_count": null,
   "id": "310ee716-402e-4592-90cd-66c7db827f3d",
   "metadata": {},
   "outputs": [],
   "source": [
    "import pandas as pd\n",
    "import re "
   ]
  },
  {
   "cell_type": "code",
   "execution_count": null,
   "id": "b2e74f00-4612-4277-b733-a0d0c6412d4a",
   "metadata": {},
   "outputs": [],
   "source": [
    "df = pd.read_csv('Tabelas/house.csv')"
   ]
  },
  {
   "cell_type": "code",
   "execution_count": null,
   "id": "bd3318ae-3dc9-4ab9-9744-cfafe0cf08ea",
   "metadata": {},
   "outputs": [],
   "source": [
    "df"
   ]
  },
  {
   "cell_type": "code",
   "execution_count": null,
   "id": "f61bc5fa-7eb5-48c9-896d-d8883c1690a8",
   "metadata": {},
   "outputs": [],
   "source": [
    "df.loc[df['SellerG'] == 'Nelson', 'SellerG'] = 'Ronald' #Alterando vendedor Nelson por Ronald \n",
    "df"
   ]
  },
  {
   "cell_type": "code",
   "execution_count": null,
   "id": "1bb5e510-270d-4a0d-829d-cbe926c19a39",
   "metadata": {},
   "outputs": [],
   "source": [
    "df.loc[df['SellerG'] == 'Ronald', ['Method', 'Type']] = 'Pending' #Modificando dados \n",
    "df"
   ]
  }
 ],
 "metadata": {
  "kernelspec": {
   "display_name": "Python 3 (ipykernel)",
   "language": "python",
   "name": "python3"
  },
  "language_info": {
   "codemirror_mode": {
    "name": "ipython",
    "version": 3
   },
   "file_extension": ".py",
   "mimetype": "text/x-python",
   "name": "python",
   "nbconvert_exporter": "python",
   "pygments_lexer": "ipython3",
   "version": "3.9.7"
  }
 },
 "nbformat": 4,
 "nbformat_minor": 5
}
