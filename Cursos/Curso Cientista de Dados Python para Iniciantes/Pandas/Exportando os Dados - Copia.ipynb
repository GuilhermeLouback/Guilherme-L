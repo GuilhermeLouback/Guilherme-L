{
 "cells": [
  {
   "cell_type": "code",
   "execution_count": null,
   "id": "77fd2085-6538-4323-990c-8a21af5c2cb5",
   "metadata": {},
   "outputs": [],
   "source": [
    "import pandas as pd "
   ]
  },
  {
   "cell_type": "code",
   "execution_count": null,
   "id": "8abe4676-7751-42a0-a60f-08c05ebc608d",
   "metadata": {},
   "outputs": [],
   "source": [
    "dados = pd.read_csv('Fifa/fifa.csv')"
   ]
  },
  {
   "cell_type": "code",
   "execution_count": null,
   "id": "c6b2f37b-6128-40b9-bf8c-fb1283712647",
   "metadata": {},
   "outputs": [],
   "source": [
    "dados"
   ]
  },
  {
   "cell_type": "code",
   "execution_count": null,
   "id": "737d1cad-5f42-4b77-81f2-7960778fffcd",
   "metadata": {},
   "outputs": [],
   "source": [
    "dados['Total'] = dados['Acceleration'] + dados['Agility'] + dados['Reactions']  #Criando colunna Total de acordo com outras colunas\n",
    "dados"
   ]
  },
  {
   "cell_type": "code",
   "execution_count": 10,
   "id": "b1719af4-cdcc-48f6-b1dd-c43342e5f305",
   "metadata": {},
   "outputs": [
    {
     "data": {
      "text/html": [
       "<div>\n",
       "<style scoped>\n",
       "    .dataframe tbody tr th:only-of-type {\n",
       "        vertical-align: middle;\n",
       "    }\n",
       "\n",
       "    .dataframe tbody tr th {\n",
       "        vertical-align: top;\n",
       "    }\n",
       "\n",
       "    .dataframe thead th {\n",
       "        text-align: right;\n",
       "    }\n",
       "</style>\n",
       "<table border=\"1\" class=\"dataframe\">\n",
       "  <thead>\n",
       "    <tr style=\"text-align: right;\">\n",
       "      <th></th>\n",
       "      <th>Name</th>\n",
       "      <th>Total</th>\n",
       "    </tr>\n",
       "  </thead>\n",
       "  <tbody>\n",
       "    <tr>\n",
       "      <th>2</th>\n",
       "      <td>Neymar Jr</td>\n",
       "      <td>284.0</td>\n",
       "    </tr>\n",
       "    <tr>\n",
       "      <th>5</th>\n",
       "      <td>E. Hazard</td>\n",
       "      <td>279.0</td>\n",
       "    </tr>\n",
       "    <tr>\n",
       "      <th>0</th>\n",
       "      <td>L. Messi</td>\n",
       "      <td>277.0</td>\n",
       "    </tr>\n",
       "    <tr>\n",
       "      <th>26</th>\n",
       "      <td>M. Salah</td>\n",
       "      <td>276.0</td>\n",
       "    </tr>\n",
       "    <tr>\n",
       "      <th>50</th>\n",
       "      <td>D. Mertens</td>\n",
       "      <td>275.0</td>\n",
       "    </tr>\n",
       "    <tr>\n",
       "      <th>...</th>\n",
       "      <td>...</td>\n",
       "      <td>...</td>\n",
       "    </tr>\n",
       "    <tr>\n",
       "      <th>13279</th>\n",
       "      <td>P. Mazzocchi</td>\n",
       "      <td>NaN</td>\n",
       "    </tr>\n",
       "    <tr>\n",
       "      <th>13280</th>\n",
       "      <td>Y. Ammour</td>\n",
       "      <td>NaN</td>\n",
       "    </tr>\n",
       "    <tr>\n",
       "      <th>13281</th>\n",
       "      <td>Jwa Joon Hyeop</td>\n",
       "      <td>NaN</td>\n",
       "    </tr>\n",
       "    <tr>\n",
       "      <th>13282</th>\n",
       "      <td>O. Marrufo</td>\n",
       "      <td>NaN</td>\n",
       "    </tr>\n",
       "    <tr>\n",
       "      <th>13283</th>\n",
       "      <td>Han Pengfei</td>\n",
       "      <td>NaN</td>\n",
       "    </tr>\n",
       "  </tbody>\n",
       "</table>\n",
       "<p>18207 rows × 2 columns</p>\n",
       "</div>"
      ],
      "text/plain": [
       "                 Name  Total\n",
       "2           Neymar Jr  284.0\n",
       "5           E. Hazard  279.0\n",
       "0            L. Messi  277.0\n",
       "26           M. Salah  276.0\n",
       "50         D. Mertens  275.0\n",
       "...               ...    ...\n",
       "13279    P. Mazzocchi    NaN\n",
       "13280       Y. Ammour    NaN\n",
       "13281  Jwa Joon Hyeop    NaN\n",
       "13282      O. Marrufo    NaN\n",
       "13283     Han Pengfei    NaN\n",
       "\n",
       "[18207 rows x 2 columns]"
      ]
     },
     "execution_count": 10,
     "metadata": {},
     "output_type": "execute_result"
    }
   ],
   "source": [
    "dados = dados [['Name', 'Total']]\n",
    "dados.sort_values('Total', ascending = False)"
   ]
  },
  {
   "cell_type": "code",
   "execution_count": 11,
   "id": "2920f3fa-910f-40f2-9189-e360f1e3620c",
   "metadata": {},
   "outputs": [],
   "source": [
    "dados.to_csv('Dados1.csv' , index = False) #Salvando em CSV"
   ]
  },
  {
   "cell_type": "code",
   "execution_count": 16,
   "id": "ccd5307c-ab90-4623-bb05-ece59931e7e7",
   "metadata": {},
   "outputs": [],
   "source": [
    "dados.to_excel('Dados2.xlsx' , index = False) #Salvando em Excel "
   ]
  },
  {
   "cell_type": "code",
   "execution_count": 19,
   "id": "cb42bfbf-5119-4956-a879-24235210257e",
   "metadata": {},
   "outputs": [],
   "source": [
    "dados.to_csv('Dados3.txt' , index = False, sep = '\\t' ) #Salvando em Texto"
   ]
  }
 ],
 "metadata": {
  "kernelspec": {
   "display_name": "Python 3 (ipykernel)",
   "language": "python",
   "name": "python3"
  },
  "language_info": {
   "codemirror_mode": {
    "name": "ipython",
    "version": 3
   },
   "file_extension": ".py",
   "mimetype": "text/x-python",
   "name": "python",
   "nbconvert_exporter": "python",
   "pygments_lexer": "ipython3",
   "version": "3.9.7"
  }
 },
 "nbformat": 4,
 "nbformat_minor": 5
}
