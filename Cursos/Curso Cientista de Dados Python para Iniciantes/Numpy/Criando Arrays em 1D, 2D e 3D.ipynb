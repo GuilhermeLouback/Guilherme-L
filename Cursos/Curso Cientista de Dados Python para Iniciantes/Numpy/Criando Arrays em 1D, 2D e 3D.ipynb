{
 "cells": [
  {
   "cell_type": "code",
   "execution_count": 17,
   "id": "2e90663b-1abf-444e-a8bd-6978db780727",
   "metadata": {},
   "outputs": [],
   "source": [
    "import numpy as np"
   ]
  },
  {
   "cell_type": "code",
   "execution_count": 18,
   "id": "ccace098-d186-49d1-89d6-66a7b8caf39e",
   "metadata": {},
   "outputs": [
    {
     "name": "stdout",
     "output_type": "stream",
     "text": [
      "[1 2 3]\n"
     ]
    }
   ],
   "source": [
    "#Array 1D\n",
    "\n",
    "d1 = np.array([1,2,3])\n",
    "print(d1)"
   ]
  },
  {
   "cell_type": "code",
   "execution_count": 19,
   "id": "98d0b969-d3e9-47b4-9580-30ef62aec9bf",
   "metadata": {},
   "outputs": [
    {
     "data": {
      "text/plain": [
       "(3,)"
      ]
     },
     "execution_count": 19,
     "metadata": {},
     "output_type": "execute_result"
    }
   ],
   "source": [
    "d1.shape    # index"
   ]
  },
  {
   "cell_type": "code",
   "execution_count": 20,
   "id": "92deac0a-70c2-48cb-8a28-87a562289891",
   "metadata": {},
   "outputs": [
    {
     "data": {
      "text/plain": [
       "1"
      ]
     },
     "execution_count": 20,
     "metadata": {},
     "output_type": "execute_result"
    }
   ],
   "source": [
    "d1.ndim     #Dimeções"
   ]
  },
  {
   "cell_type": "code",
   "execution_count": 21,
   "id": "e03b9bb1-68a3-4e4c-bd64-41ee97b493dc",
   "metadata": {},
   "outputs": [
    {
     "data": {
      "text/plain": [
       "dtype('int32')"
      ]
     },
     "execution_count": 21,
     "metadata": {},
     "output_type": "execute_result"
    }
   ],
   "source": [
    "d1.dtype    #tipo da aray"
   ]
  },
  {
   "cell_type": "code",
   "execution_count": 22,
   "id": "070b4dc9-fa75-4cf8-9e58-28826fb07005",
   "metadata": {},
   "outputs": [
    {
     "name": "stdout",
     "output_type": "stream",
     "text": [
      "[[1 2 3]\n",
      " [4 5 6]]\n"
     ]
    }
   ],
   "source": [
    "#Array 2D\n",
    "\n",
    "d2 = np.array([[1,2,3],[4,5,6]])\n",
    "print(d2)"
   ]
  },
  {
   "cell_type": "code",
   "execution_count": 23,
   "id": "3a60c3b3-c824-4e1a-a9a3-749a55941cd0",
   "metadata": {},
   "outputs": [
    {
     "data": {
      "text/plain": [
       "(2, 3)"
      ]
     },
     "execution_count": 23,
     "metadata": {},
     "output_type": "execute_result"
    }
   ],
   "source": [
    "d2.shape    # index"
   ]
  },
  {
   "cell_type": "code",
   "execution_count": 24,
   "id": "dd1e4fd3-6ae3-4a42-a7f6-bc093307621b",
   "metadata": {},
   "outputs": [
    {
     "data": {
      "text/plain": [
       "2"
      ]
     },
     "execution_count": 24,
     "metadata": {},
     "output_type": "execute_result"
    }
   ],
   "source": [
    "d2.ndim     #Dimeções"
   ]
  },
  {
   "cell_type": "code",
   "execution_count": 25,
   "id": "34f27ae2-6d3a-4ac3-8704-ba30f4bda343",
   "metadata": {},
   "outputs": [
    {
     "data": {
      "text/plain": [
       "dtype('int32')"
      ]
     },
     "execution_count": 25,
     "metadata": {},
     "output_type": "execute_result"
    }
   ],
   "source": [
    "d2.dtype    #tipo da aray"
   ]
  },
  {
   "cell_type": "code",
   "execution_count": 38,
   "id": "23e2f9bc-9923-43a8-b973-ece10dcf863d",
   "metadata": {},
   "outputs": [
    {
     "name": "stdout",
     "output_type": "stream",
     "text": [
      "[[[1 2]\n",
      "  [3 4]]\n",
      "\n",
      " [[5 6]\n",
      "  [7 8]]]\n"
     ]
    }
   ],
   "source": [
    "#Array 3D\n",
    "\n",
    "d3 = np.array([[[1,2] , [3,4]] ,[[5,6],[7,8]]])\n",
    "print(d3)"
   ]
  },
  {
   "cell_type": "code",
   "execution_count": 39,
   "id": "a8a88446-76e5-4b70-a67b-7b6449e39b2f",
   "metadata": {},
   "outputs": [
    {
     "data": {
      "text/plain": [
       "(2, 2, 2)"
      ]
     },
     "execution_count": 39,
     "metadata": {},
     "output_type": "execute_result"
    }
   ],
   "source": [
    "d3.shape    # index"
   ]
  },
  {
   "cell_type": "code",
   "execution_count": 40,
   "id": "3741a875-cf0b-48b3-b7db-852f498b9b9c",
   "metadata": {},
   "outputs": [
    {
     "data": {
      "text/plain": [
       "3"
      ]
     },
     "execution_count": 40,
     "metadata": {},
     "output_type": "execute_result"
    }
   ],
   "source": [
    "d3.ndim     #Dimeções"
   ]
  },
  {
   "cell_type": "code",
   "execution_count": 41,
   "id": "06a629f4-3718-4e9b-97f6-a7c459241181",
   "metadata": {},
   "outputs": [
    {
     "data": {
      "text/plain": [
       "dtype('int32')"
      ]
     },
     "execution_count": 41,
     "metadata": {},
     "output_type": "execute_result"
    }
   ],
   "source": [
    "d3.dtype    #tipo da aray"
   ]
  }
 ],
 "metadata": {
  "kernelspec": {
   "display_name": "Python 3 (ipykernel)",
   "language": "python",
   "name": "python3"
  },
  "language_info": {
   "codemirror_mode": {
    "name": "ipython",
    "version": 3
   },
   "file_extension": ".py",
   "mimetype": "text/x-python",
   "name": "python",
   "nbconvert_exporter": "python",
   "pygments_lexer": "ipython3",
   "version": "3.9.7"
  }
 },
 "nbformat": 4,
 "nbformat_minor": 5
}
