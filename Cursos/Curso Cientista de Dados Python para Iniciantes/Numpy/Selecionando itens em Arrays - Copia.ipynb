{
 "cells": [
  {
   "cell_type": "code",
   "execution_count": 1,
   "id": "85725a18-1d55-43d0-a7fe-aaee21733aeb",
   "metadata": {},
   "outputs": [],
   "source": [
    "import numpy as np"
   ]
  },
  {
   "cell_type": "code",
   "execution_count": 23,
   "id": "83967dcb-c2af-437a-8145-4bfbc327f390",
   "metadata": {},
   "outputs": [
    {
     "name": "stdout",
     "output_type": "stream",
     "text": [
      "[['2' '3' 'R$19,90' '5']\n",
      " ['6' '7' 'Apple' '9']]\n"
     ]
    }
   ],
   "source": [
    "a = np.array([[2,3,'R$19,90',5] , [6,7,'Apple',9]])\n",
    "print(a)"
   ]
  },
  {
   "cell_type": "code",
   "execution_count": 4,
   "id": "1f77801a-42f5-446a-9283-7436ad2ef5de",
   "metadata": {},
   "outputs": [
    {
     "data": {
      "text/plain": [
       "8"
      ]
     },
     "execution_count": 4,
     "metadata": {},
     "output_type": "execute_result"
    }
   ],
   "source": [
    "# Array [row, columns]  Valor de 8 de acordo com index\n",
    "\n",
    "a[1,2]"
   ]
  },
  {
   "cell_type": "code",
   "execution_count": 7,
   "id": "9fe8a512-f243-4068-b654-0e848744b64b",
   "metadata": {},
   "outputs": [
    {
     "data": {
      "text/plain": [
       "array([2, 3, 4, 5])"
      ]
     },
     "execution_count": 7,
     "metadata": {},
     "output_type": "execute_result"
    }
   ],
   "source": [
    "a[0,:] #mostrando somente a primeiro row "
   ]
  },
  {
   "cell_type": "code",
   "execution_count": 24,
   "id": "843bd208-66ec-4062-bc2f-3ba9635e67e3",
   "metadata": {},
   "outputs": [
    {
     "data": {
      "text/plain": [
       "array(['R$19,90', 'Apple'], dtype='<U11')"
      ]
     },
     "execution_count": 24,
     "metadata": {},
     "output_type": "execute_result"
    }
   ],
   "source": [
    "a[:,2] #mostrando dois itens da mesma coluna porem de rows diferentes "
   ]
  }
 ],
 "metadata": {
  "kernelspec": {
   "display_name": "Python 3 (ipykernel)",
   "language": "python",
   "name": "python3"
  },
  "language_info": {
   "codemirror_mode": {
    "name": "ipython",
    "version": 3
   },
   "file_extension": ".py",
   "mimetype": "text/x-python",
   "name": "python",
   "nbconvert_exporter": "python",
   "pygments_lexer": "ipython3",
   "version": "3.9.7"
  }
 },
 "nbformat": 4,
 "nbformat_minor": 5
}
