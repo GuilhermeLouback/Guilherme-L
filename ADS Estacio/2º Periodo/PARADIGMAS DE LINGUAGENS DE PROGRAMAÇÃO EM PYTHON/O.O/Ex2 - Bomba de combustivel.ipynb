{
 "cells": [
  {
   "cell_type": "markdown",
   "metadata": {},
   "source": [
    "▸Classe Bomba de Combustível: Faça um programa completo utilizando classes e métodos que:\n",
    "▸Possua uma classe chamada bombaCombustível, com no mínimo esses atributos:\n",
    "▸tipoCombustivel.\n",
    "▸valorLitro\n",
    "▸quantidadeCombustivel\n",
    "\n",
    "▸Possua no mínimo esses métodos:\n",
    "▸abastecerPorValor( ) – método onde é informado o valor a ser abastecido e mostra a quantidade de litros que foi colocada\n",
    "no veículo\n",
    "▸abastecerPorLitro( ) – método onde é informado a quantidade em litros de combustível e mostra o valor a ser pago pelo\n",
    "cliente.\n",
    "▸alterarValor( ) – altera o valor do litro do combustível.\n",
    "▸alterarCombustivel( ) – altera o tipo do combustível.\n",
    "▸alterarQuantidadeCombustivel( ) – altera a quantidade de combustível restante na bomba.\n",
    "▸OBS: Sempre que acontecer um abastecimento é necessário atualizar a quantidade de combustível total na bomba"
   ]
  },
  {
   "cell_type": "code",
   "execution_count": 19,
   "metadata": {},
   "outputs": [
    {
     "name": "stdout",
     "output_type": "stream",
     "text": [
      "Foram abasteceidos 20.04 litros a um valor de R$: 100.00 . \n",
      "Sobraram na bomba 79.96 litros de Gasolina.\n",
      "Foram abasteceidos 50.00 litros a um valor de R$: 249.50 . \n",
      "Sobraram na bomba 29.96 litros de Gasolina.\n",
      "Foram abasteceidos 50.00 litros a um valor de R$: 279.50 . \n",
      "Sobraram na bomba 79.96 litros de Gasolina.\n",
      "Erro !!!!!!! Extração indevida de gasolina!!!!!!\n"
     ]
    }
   ],
   "source": [
    "class BombaCombustivel: \n",
    "    def __init__(self,tipo_combustivel:str, valor_litro:float, qtd_combustivel:float):\n",
    "        self.tipo_combustivel = tipo_combustivel\n",
    "        self.valor_litro = valor_litro\n",
    "        self.qtd_combustivel = qtd_combustivel\n",
    "\n",
    "    def abastecer_por_valor(self, valor:float):\n",
    "        litros_abastecidos = valor / self.valor_litro\n",
    "        self._apresentar_abastecimento_se_possivel(litros_abastecidos , valor)\n",
    "\n",
    "\n",
    "    def _apresentar_abastecimento_se_possivel(self, litros_abastecidos:float , valor:float):\n",
    "        if litros_abastecidos > self.qtd_combustivel:\n",
    "            print(f'Não é possivel abastece, faltam {litros_abastecidos - self.qtd_combustivel:.2f}: litros. ')\n",
    "            print('Reabasteça a bomba!!!')\n",
    "        else: \n",
    "            self.qtd_combustivel -= litros_abastecidos\n",
    "            print(f'Foram abasteceidos {litros_abastecidos:.2f} litros a um valor de R$: {valor:.2f} . ')\n",
    "            print(f'Sobraram na bomba {self.qtd_combustivel:.2f} litros de {self.tipo_combustivel}.')\n",
    "\n",
    "    def abastecer_por_litro(self, litros_abastecidos:float):\n",
    "        valor = litros_abastecidos * self.valor_litro \n",
    "        self._apresentar_abastecimento_se_possivel(litros_abastecidos , valor)\n",
    "\n",
    "    def adicionar_mais_combustivel(self, quantidade:float ):\n",
    "        if quantidade >= 0:\n",
    "            self.qtd_combustivel += quantidade\n",
    "\n",
    "        else:\n",
    "            print('Erro !!!!!!! Extração indevida de gasolina da bomba!!!!!!')\n",
    "\n",
    "\n",
    "\n",
    "\n",
    "\n",
    "\n",
    "bomba = BombaCombustivel('Gasolina', 4.99 , 100.0)\n",
    "\n",
    "bomba.abastecer_por_valor(100)\n",
    "bomba.abastecer_por_litro(50)\n",
    "\n",
    "\n",
    "bomba.valor_litro = 5.59\n",
    "bomba.adicionar_mais_combustivel(100)\n",
    "bomba.abastecer_por_litro(50)\n",
    "\n",
    "\n",
    "bomba.adicionar_mais_combustivel(-100)\n",
    "\n",
    "\n",
    "\n",
    "\n"
   ]
  }
 ],
 "metadata": {
  "interpreter": {
   "hash": "1779eb689b3d9e164f16aa8ce853830e1f3b54c12089966ed29bfc7319c7d8cf"
  },
  "kernelspec": {
   "display_name": "Python 3.10.4 64-bit",
   "language": "python",
   "name": "python3"
  },
  "language_info": {
   "codemirror_mode": {
    "name": "ipython",
    "version": 3
   },
   "file_extension": ".py",
   "mimetype": "text/x-python",
   "name": "python",
   "nbconvert_exporter": "python",
   "pygments_lexer": "ipython3",
   "version": "3.10.4"
  },
  "orig_nbformat": 4
 },
 "nbformat": 4,
 "nbformat_minor": 2
}
