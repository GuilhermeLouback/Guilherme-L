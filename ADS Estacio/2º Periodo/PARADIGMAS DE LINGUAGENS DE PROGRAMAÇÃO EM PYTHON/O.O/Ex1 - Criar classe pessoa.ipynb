{
  "nbformat": 4,
  "nbformat_minor": 0,
  "metadata": {
    "colab": {
      "name": "Untitled0.ipynb",
      "provenance": []
    },
    "kernelspec": {
      "name": "python3",
      "display_name": "Python 3"
    },
    "language_info": {
      "name": "python"
    }
  },
  "cells": [
    {
      "cell_type": "markdown",
      "source": [
        "Crie uma classe que modele uma pessoa: \n",
        " ▸Atributos: nome, idade, peso e altura \n",
        " ▸Métodos: Envelhecer, engordar, emagrecer, crescer. \n",
        "\n",
        " ▸Obs: Por padrão, a cada ano que nossa pessoa envelhece, sendo a idade dela menor que 21 anos, ela deve crescer 0,5 cm \n",
        " ▸Pode possuir ou não parâmetros"
      ],
      "metadata": {
        "id": "zodDo0BB7JdG"
      }
    },
    {
      "cell_type": "code",
      "source": [
        "class pessoa:\n",
        "  nome = \"\"\n",
        "  idade = 0\n",
        "  peso = 0\n",
        "  altura = 0\n",
        "\n",
        "  def __init__(self, nome , peso, altura):\n",
        "    self.idade = 0\n",
        "    self.nome = nome\n",
        "    self.peso = peso\n",
        "    self.peeso = altura\n",
        "\n",
        "  def envelhecer(self):\n",
        "    self.idade = self.idade +1\n",
        "    if self.idade <= 21:\n",
        "      self.crescer()\n",
        "\n",
        "  def engordar(self, peso):\n",
        "    self.peso = self.peso + peso\n",
        "\n",
        "  def emagrecer(self, peso):\n",
        "    self.peso = self.peso - peso\n",
        "\n",
        "  def crescer(self):\n",
        "    self.altura = self.altura + 0.5\n",
        "\n",
        "\n",
        "\n",
        "\n"
      ],
      "metadata": {
        "id": "sWWodMmw7KP8"
      },
      "execution_count": 15,
      "outputs": []
    },
    {
      "cell_type": "code",
      "source": [
        "guilherme = pessoa('Gui', 5 , 50 )\n",
        "\n",
        "print(guilherme.altura)\n",
        "print(guilherme.altura)\n",
        "\n",
        "guilherme.envelhecer()\n",
        "\n",
        "print(guilherme.idade)\n",
        "print(guilherme.altura)\n"
      ],
      "metadata": {
        "colab": {
          "base_uri": "https://localhost:8080/"
        },
        "id": "sPoSg-0-9Hbc",
        "outputId": "9ff2d755-8846-4c34-9bba-2d966331d22e"
      },
      "execution_count": 16,
      "outputs": [
        {
          "output_type": "stream",
          "name": "stdout",
          "text": [
            "0\n",
            "0\n",
            "1\n",
            "0.5\n"
          ]
        }
      ]
    }
  ]
}