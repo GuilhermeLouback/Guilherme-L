{
 "cells": [
  {
   "cell_type": "markdown",
   "metadata": {},
   "source": [
    "Criação de Atributos:"
   ]
  },
  {
   "cell_type": "code",
   "execution_count": null,
   "metadata": {},
   "outputs": [],
   "source": [
    "class Raca:\n",
    "  def __init__(self, forca, destreza, constituicao, sabedoria, inteligencia, carisma):\n",
    "    self.forca = forca\n",
    "    self.destreza = destreza\n",
    "    self.constituicao = constituicao\n",
    "    self.sabedoria = sabedoria\n",
    "    self.inteligencia = inteligencia\n",
    "    self.carisma = carisma"
   ]
  },
  {
   "cell_type": "markdown",
   "metadata": {},
   "source": [
    "Criação da Raça Anão: Constituicao + 2\n",
    "    -Anão da Colina\n",
    "    -Anão da Montanha"
   ]
  },
  {
   "cell_type": "code",
   "execution_count": null,
   "metadata": {},
   "outputs": [],
   "source": [
    "class Anao(Raca):\n",
    "  def __init__(self, forca, destreza, constituicao, sabedoria, inteligencia, carisma):\n",
    "    super().__init__(forca, destreza, constituicao + 2, sabedoria, inteligencia, carisma)\n",
    "\n",
    "class AnaoColina(Anao):\n",
    "  def __init__(self, forca, destreza, constituicao, sabedoria, inteligencia, carisma):\n",
    "    super().__init__(forca, destreza, constituicao, sabedoria + 1, inteligencia, carisma)\n",
    "\n",
    "class AnaoDaMontanha(Anao):\n",
    "    def __init__(self, forca, destreza, constituicao, sabedoria, inteligencia, carisma):\n",
    "        super().__init__(forca + 2, destreza, constituicao, sabedoria, inteligencia, carisma)"
   ]
  },
  {
   "cell_type": "markdown",
   "metadata": {},
   "source": [
    "Criação da Raça Elfo: Inteligencia + 1\n",
    "    -Alto Elfo\n",
    "    -Elfo da Floresta\n",
    "    -Elfo Negro"
   ]
  },
  {
   "cell_type": "code",
   "execution_count": null,
   "metadata": {},
   "outputs": [],
   "source": [
    "class Elfo(Raca):\n",
    "    def __init__(self, forca, destreza, constituicao, sabedoria, inteligencia, carisma):\n",
    "        super().__init__(forca , destreza + 2, constituicao, sabedoria, inteligencia, carisma)\n",
    "\n",
    "class AltoElfo(Elfo):\n",
    "    def __init__(self, forca, destreza, constituicao, sabedoria, inteligencia, carisma):\n",
    "        super().__init__(forca , destreza, constituicao, sabedoria, inteligencia + 1, carisma)\n",
    "\n",
    "class ElfoDaFloresta(Elfo):\n",
    "    def __init__(self, forca, destreza, constituicao, sabedoria, inteligencia, carisma):\n",
    "        super().__init__(forca , destreza, constituicao, sabedoria + 1, inteligencia, carisma)\n",
    "\n",
    "\n",
    "class ElfoNegro(Elfo):\n",
    "    def __init__(self, forca, destreza, constituicao, sabedoria, inteligencia, carisma):\n",
    "        super().__init__(forca , destreza, constituicao, sabedoria, inteligencia, carisma + 1)"
   ]
  },
  {
   "cell_type": "markdown",
   "metadata": {},
   "source": [
    "Criação da Barbaro: Destreza + 2\n",
    "    -Pés Leves \n",
    "    -Robusto"
   ]
  },
  {
   "cell_type": "code",
   "execution_count": null,
   "metadata": {},
   "outputs": [],
   "source": [
    "class Barbaro(Raca):\n",
    "    def __init__(self, forca, destreza, constituicao, sabedoria, inteligencia, carisma):\n",
    "        super().__init__(forca , destreza + 2, constituicao, sabedoria, inteligencia, carisma)\n",
    "\n",
    "class PesLeves(Barbaro):\n",
    "    def __init__(self, forca, destreza, constituicao, sabedoria, inteligencia, carisma):\n",
    "        super().__init__(forca , destreza, constituicao, sabedoria, inteligencia, carisma + 1)\n",
    "\n",
    "class Robusto(Barbaro):\n",
    "    def __init__(self, forca, destreza, constituicao, sabedoria, inteligencia, carisma):\n",
    "        super().__init__(forca , destreza, constituicao + 1, sabedoria, inteligencia, carisma)\n"
   ]
  },
  {
   "cell_type": "markdown",
   "metadata": {},
   "source": [
    "Criação da Humano: Forca + 1, Festreza + 1, Constituicao + 1, Sabedoria + 1, Inteligencia + 1, Carisma + 1\n"
   ]
  },
  {
   "cell_type": "code",
   "execution_count": null,
   "metadata": {},
   "outputs": [],
   "source": [
    "class Humano(Raca):\n",
    "    def __init__(self, forca, destreza, constituicao, sabedoria, inteligencia, carisma):\n",
    "        super().__init__(forca + 1, destreza + 1, constituicao + 1, sabedoria + 1, inteligencia + 1, carisma + 1)"
   ]
  },
  {
   "cell_type": "markdown",
   "metadata": {},
   "source": [
    "Criação da Draconato: Forca + 2\n"
   ]
  },
  {
   "cell_type": "code",
   "execution_count": null,
   "metadata": {},
   "outputs": [],
   "source": [
    "class Draconato(Raca):\n",
    "    def __init__(self, forca, destreza, constituicao, sabedoria, inteligencia, carisma):\n",
    "        super().__init__(forca + 2 , destreza, constituicao, sabedoria, inteligencia, carisma + 1)"
   ]
  },
  {
   "cell_type": "markdown",
   "metadata": {},
   "source": [
    "Criação da Gnomo: Inteligencia + 2"
   ]
  },
  {
   "cell_type": "code",
   "execution_count": null,
   "metadata": {},
   "outputs": [],
   "source": [
    "class Gnomo(Raca):\n",
    "    def __init__(self, forca, destreza, constituicao, sabedoria, inteligencia, carisma):\n",
    "        super().__init__(forca , destreza, constituicao, sabedoria, inteligencia + 2, carisma )\n",
    "\n",
    "class GnomoDaFloresta(Gnomo):\n",
    "    def __init__(self, forca, destreza, constituicao, sabedoria, inteligencia, carisma):\n",
    "        super().__init__(forca , destreza + 1, constituicao, sabedoria, inteligencia, carisma )\n",
    "\n",
    "class GnomoDaPedra(Gnomo):\n",
    "    def __init__(self, forca, destreza, constituicao, sabedoria, inteligencia, carisma):\n",
    "        super().__init__(forca , destreza, constituicao + 1, sabedoria, inteligencia, carisma)"
   ]
  },
  {
   "cell_type": "markdown",
   "metadata": {},
   "source": [
    "Criação da Ladrão: Inteligencia + 1"
   ]
  },
  {
   "cell_type": "code",
   "execution_count": null,
   "metadata": {},
   "outputs": [],
   "source": [
    "class Ladrao(Raca):\n",
    "    def __init__(self, forca, destreza, constituicao, sabedoria, inteligencia, carisma):\n",
    "        super().__init__(forca, destreza, constituicao, sabedoria,inteligencia + 1, carisma + 1)\n"
   ]
  }
 ],
 "metadata": {
  "language_info": {
   "name": "python"
  },
  "orig_nbformat": 4
 },
 "nbformat": 4,
 "nbformat_minor": 2
}
